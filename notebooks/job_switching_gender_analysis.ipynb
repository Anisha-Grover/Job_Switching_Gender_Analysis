{
 "cells": [
  {
   "cell_type": "markdown",
   "id": "8841d7ea-b8f2-43eb-b087-e089e1e9d253",
   "metadata": {},
   "source": [
    "# Analyzing The Relationship Between Job Turnover And Gender Using NLS79 Data\n",
    "### Anisha Grover\n"
   ]
  },
  {
   "cell_type": "markdown",
   "id": "6cbd0a2f-27de-48e8-9a05-204484781008",
   "metadata": {
    "tags": []
   },
   "source": [
    "## Objective\n",
    "\n",
    "In the private sector, it is common for employees to switch companies or employers for newer opportunities as well as for an increase in pay. If there is a difference in the job switching behaviour between men and women, then it will likely impact their income trajectory and may contribute to the gender wage gap that has been documented in the data. One may conjecture that women while raising a young family might value familiarity with the employer more than men of similar age and be more averse to switching jobs. At the same time many other factors also affect a change in employment. Not every change in employer is voluntary as people are fired or made to leave when a company fails. Ability may also play a role. Less able people might switch jobs more frequently as they get lower quality jobs that evict employees frequently or high ability people may switch jobs more frequently as employers compete for them by offering attractive pay packages. The objective of this analysis is to look for patterns in job switching behaviour of working age population and investigate if there are any differences by gender. \n"
   ]
  },
  {
   "cell_type": "markdown",
   "id": "cb24cbe4-a7cc-4747-8e04-5175bb5a55d8",
   "metadata": {
    "tags": []
   },
   "source": [
    "## Data\n",
    "\n",
    "I use the 1979 cohort of the National Longitudinal Survey of Youth (NLSY79) that tracks 12686 men and women who born in the United States during the years 1957-1964. Based on 28 rounds of survey (starting in 1979 and the latest one being in 2018), a forty year long panel data has been constructed and captures various aspects of employment and demographics of these men and women. The deidentified data is publically available [here](https://www.nlsinfo.org/investigator/pages/login). Out of the 55000 variables available in the survey, relevant variables were selected for the analysis and transformed from the wide to long format. The long form data files are stored in the `data/interim` folder. The primary data were further transformed to create the required features using the script `code/gen_features.py`. The two data files containing features used in this analysis are stored in the `data/processed` and described below.\n",
    "\n",
    "\n",
    "### jobs_unique_df_data.csv\n",
    "\n",
    "\n",
    "| Variable          |  Type     | Description                                        |\n",
    "|-------------------|-----------|----------------------------------------------------|\n",
    "|`Person_Id`        |Integer    |**Key**: Unique ID for each respondent.             |\n",
    "|`Total_Jobs`       |Integer    |Number of jobs held during the observed working life.| \n",
    "|`Years_Job_History`|Integer    |Number of years observed in employement data.       |\n",
    "|`Female`           |Integer    |1 if female, 0 if male.                           |\n",
    "|`Gender`           |Object     |2 Categories: `Female` and `Male`                 |\n",
    "|`Education_Ctg`    |Object     |4 Categories: `Less_School`, `Complete_School`,`College` and `Graduate`.|\n",
    "|`Frac_Years_Pvt`   |Float      |Percentage of years employed in the private sector. |\n",
    "|`Frac_Years_Gvt`   |Float      |Percentage of years employed in the government sector.|\n",
    "|`Frac_Years_Self`  |Float      |Percentage of years employed in the self employment sector.|\n",
    "\n",
    "\n",
    "\n",
    "### jobs_switch_df_data.csv\n",
    "\n",
    "| Variable        |  Type  | Description                                          |\n",
    "|-----------------|--------|------------------------------------------------------|\n",
    "|`Person_Id`      |Integer |**Key**: Unique ID for each respondent.|\n",
    "|`Calendar_Year`  |Integer |**Key**: 4 digit calendar years from 1979 to 2018.|\n",
    "|`Age`            |Integer |Age of the respondent.|\n",
    "|`Switch_Job_1`   |Integer |1 if a new job is started and any job ends in the calendar year, 0 otherwise.|\n",
    "|`Switch_Job_2`   |Integer |1 if a new job is started in the calendar year, 0 otherwise.|\n"
   ]
  },
  {
   "cell_type": "markdown",
   "id": "42a3af0f-c141-4fd7-85b2-3971a65bbbf9",
   "metadata": {},
   "source": [
    "## Analysis\n",
    "\n",
    "From the survey data we get the job history of each respondent which includes a list of all employers the respondent worked for as well as the starting and stopping dates for each employer. From this i have constructed two variables *Total_Jobs* and *Switch_Job_*, that will be analyzed in detail below. *Total_Jobs* counts all the employers a person worked at between the years 1979 to 2018. Greater the number of employers switched, higher will be the value of this variable. *Switch_Job_1* and *Switch_Job_2* are binary variables that are calculated for each calendar year a person is employed. The other key features are *Gender* and *Female* whose relationship with the two dependent variables will also be explored. \n",
    "\n",
    "It is important to keep in mind that in this analysis switching a job is defined as switching an employer. Tracking occupational or position changes with the same employer is much harder in the NLS79 data due to inconsistency in the way this information is collected over different rounds."
   ]
  },
  {
   "cell_type": "code",
   "execution_count": null,
   "id": "b324ea93-2a76-43c8-9db3-862c968ed070",
   "metadata": {},
   "outputs": [],
   "source": [
    "# Import modules\n",
    "from pathlib import Path\n",
    "import os\n",
    "\n",
    "import pandas as pd\n",
    "import numpy as np\n",
    "\n",
    "import seaborn as sns\n",
    "import matplotlib.pyplot as plt\n",
    "\n",
    "import statsmodels.api as sm\n",
    "import statsmodels.formula.api as smf"
   ]
  },
  {
   "cell_type": "code",
   "execution_count": null,
   "id": "214b67e9-70e6-4b57-8a90-87cbce55a7d9",
   "metadata": {
    "tags": []
   },
   "outputs": [],
   "source": [
    "# Find the path of this notebook and change the working directory to its parent \n",
    "# folder i.e. set working directory to be 'python_sample' folder\n",
    "os.chdir(Path(os.getcwd()).parents[0])"
   ]
  },
  {
   "cell_type": "code",
   "execution_count": null,
   "id": "2b0ee607-388d-4bf9-a28e-089bd8fdfab4",
   "metadata": {},
   "outputs": [],
   "source": [
    "# Run the file 'gen_features.py' to create dataframes needed for this analysis\n",
    "%run ./scripts/gen_features.py"
   ]
  },
  {
   "cell_type": "code",
   "execution_count": null,
   "id": "adc001ed-495d-4dea-a877-a5064ad800eb",
   "metadata": {},
   "outputs": [],
   "source": [
    "# Read data\n",
    "jobs_unique_df = pd.read_csv('./data/processed/jobs_unique_data.csv')\n",
    "jobs_switch_df = pd.read_csv('./data/processed/jobs_switch_data.csv')"
   ]
  },
  {
   "cell_type": "markdown",
   "id": "9ba2220f-cdf5-4b20-ae6d-15fa2ff97389",
   "metadata": {},
   "source": [
    "Summarizing the *Female* variable shows that we have information on the work history of 12336 surveyed individuals out of which 49% are women. In this data women are as likely to have worked in their lifetime as men since approximately half the respondents who have ever worked are women. Note that the survey started with 12686 individuals out of which 6403 (50.5%) were categorized as men and remainiing as women."
   ]
  },
  {
   "cell_type": "code",
   "execution_count": null,
   "id": "cac93bdc-087b-47a8-8258-9443d1ecaa53",
   "metadata": {},
   "outputs": [],
   "source": [
    "# Describe sample information\n",
    "jobs_unique_df['Female'].describe()"
   ]
  },
  {
   "cell_type": "markdown",
   "id": "8578a576-9a77-43d7-a146-af6e011c2a21",
   "metadata": {},
   "source": [
    "### Exploring `Total_Jobs` and its relationship to `Gender`\n",
    "\n",
    "We start by looking at the distribution of *Total_Jobs* that measures the total number of jobs a respondent held over their observed working lives between the years 1979 to 2018."
   ]
  },
  {
   "cell_type": "code",
   "execution_count": null,
   "id": "2628d67b-ac31-44ff-a64c-bd1986a7d262",
   "metadata": {},
   "outputs": [],
   "source": [
    "# Historgam of Total_Jobs variable\n",
    "plot01 = sns.displot(jobs_unique_df, x = \"Total_Jobs\")\n",
    "plot01.set(xlabel = 'Total Jobs Held During Lifetime',\n",
    "           title = 'Histogram of Total Jobs')\n",
    "plt.xlim(0, None)\n",
    "plt.show()"
   ]
  },
  {
   "cell_type": "code",
   "execution_count": null,
   "id": "b0dc6850-ab89-4569-892a-08130c009371",
   "metadata": {},
   "outputs": [],
   "source": [
    "# Stats for Total_Jobs\n",
    "jobs_unique_df['Total_Jobs'].describe()"
   ]
  },
  {
   "cell_type": "markdown",
   "id": "0c2e6ee9-7dd1-4bc7-b8e6-5828da4324d8",
   "metadata": {},
   "source": [
    "On average people hold **10** jobs during their working life and there is quite a bit of variation in jobs held. However, some of this variation in total jobs could be due to differences in the number of years a person is observed working. There are two kinds of reasons a respondent drop out of the employment history data. The first reason is that they became unemployed (could be voluntary or involuntary) and the second reason is that they might have dropped out of the survey. A detail of the samples who became ineligible for the survey or who dropped can be found [here](https://www.bls.gov/nls/nlsy79.htm#intro-to-sample). We must account for the differences in the amount of time observed in employment while looking at the behaviour of *Total_Jobs* else our results will be biased. We ideally wish to compare the difference in the *Total_Jobs* between men and women who have similar employment duration.\n",
    "\n",
    "So i create the *Years_Job_History* variable that counts the number of years we see each respondent in the employment history data and look at its distribution."
   ]
  },
  {
   "cell_type": "code",
   "execution_count": null,
   "id": "29ec7df3-fe5f-4a2a-b874-030f3a5768f9",
   "metadata": {},
   "outputs": [],
   "source": [
    "# Historgam of Years_Job_History variable\n",
    "plot02 = sns.displot(jobs_unique_df, x = \"Years_Job_History\")\n",
    "plot02.set(xlabel = 'No. of Years in Employment',\n",
    "           title = 'Histogram of No. of Years for which Respondents are observed as Employed')\n",
    "plt.xlim(0, None)\n",
    "plt.show()"
   ]
  },
  {
   "cell_type": "markdown",
   "id": "a6233bf4-01b2-4ff6-8d0a-9686a6f8ec88",
   "metadata": {},
   "source": [
    "Only around 28% of the respondents work throughout their life between the age of 20 till age 60. Others work for fewer years and this could be either due to breaks in their employment or due to them dropping out of the survey. Ideally, after ensuring that the reasons for dropping out are random and do not reduce the sample size of any gender significantly to affect validity of results, we would like to remove from the sample people who drop out. But for this analysis we continue to keep them in the sample.\n",
    "\n",
    "Even before we explore the differences in *Total_Jobs* across gender, we should check if the behaviour of *Years_Job_History* varies by gender. In many countries it is observed that women drop out of the workforce after marriage or while raisin young children and the variation in the 'Years_Job_History' in this data might also be driven by differences in attachment to employment by gender. The linear regression below shows that in this data, gender does have a statistically signifcant correlation with *Years_Job_History*. However, women on average are observed for one year less than men in the employment data where men on average are observed for 25 years. This magnitude of difference is not very meaningful and i conclude that the behaviour of dropping out of the employment data is similar across genders."
   ]
  },
  {
   "cell_type": "code",
   "execution_count": null,
   "id": "da714832-9ff2-47bc-b472-f27d7c6f7f22",
   "metadata": {},
   "outputs": [],
   "source": [
    "# Correlation between `Years_Job_History` and `Gender`\n",
    "X01 = sm.add_constant(jobs_unique_df['Female'])\n",
    "model01 = sm.OLS(jobs_unique_df['Years_Job_History'], X01).fit()\n",
    "print(model01.summary())"
   ]
  },
  {
   "cell_type": "markdown",
   "id": "f3e4509d-a59f-4866-bdda-0da03046d1f3",
   "metadata": {},
   "source": [
    "Next, we look at how much of the variation in *Total_Jobs* is explained by *Years_Job_History*. The linear regression below shows that the number of years we see a person employed in this data explains a significant proprtion of variation in the total number of jobs held as the R-squared is fairly large. "
   ]
  },
  {
   "cell_type": "code",
   "execution_count": null,
   "id": "7e320583-4e59-456a-8a75-1eb4fb947e50",
   "metadata": {},
   "outputs": [],
   "source": [
    "# Correlation between `Total_Jobs` and `Years_Job_History`\n",
    "# Force no intercept in the model\n",
    "model02 = sm.OLS(jobs_unique_df['Total_Jobs'],\n",
    "                 jobs_unique_df['Years_Job_History']).fit()\n",
    "print(model02.summary())"
   ]
  },
  {
   "cell_type": "markdown",
   "id": "1f284002-068f-424d-a74e-1f8ecb105578",
   "metadata": {},
   "source": [
    "The boxplot below indicates that much of the relationship between years observed in employment history data and total number of jobs held is driven by respondents who are observed working for less than 15 years. Hence, going forward in comparing *Total_Jobs* across genders, we will also control for *Years_Job_History*."
   ]
  },
  {
   "cell_type": "code",
   "execution_count": null,
   "id": "7a9c7c09-04a1-41d4-824d-a8f19bacd118",
   "metadata": {},
   "outputs": [],
   "source": [
    "# Boxplot of Total_Jobs by Years_Job_History\n",
    "plot03 = sns.boxplot(data = jobs_unique_df, x = 'Years_Job_History', y = 'Total_Jobs')\n",
    "plot03.set_xticks(range(0, max(jobs_unique_df['Years_Job_History']), 5))\n",
    "plot03.set(xlabel = 'Years of Job History', ylabel = 'Total Jobs',\n",
    "           title = 'Boxplot of Total Jobs by Years of Job History')\n",
    "plt.show()"
   ]
  },
  {
   "cell_type": "markdown",
   "id": "f1bba705-17ea-4f77-a7a1-8d24b0348e8a",
   "metadata": {},
   "source": [
    "Job switching is affected by many different factors such as the sector or industry in which the person is employed, the role, education, etc. When trying to understand difference in job switching behaviour by gender, we need to check if the effect of gender is intermediated by these different factors. At the same time if a factor is not related to gender, we should control for it to ensure that we are comparing men and women who are as similar to each other on these other factors. In the following analysis i will evaluate the importance of some of these factors on *Total_Jobs* before doing a formal analysis of the effect of gender."
   ]
  },
  {
   "cell_type": "markdown",
   "id": "9553b63b-5324-48fc-99f6-81cbc27438ba",
   "metadata": {},
   "source": [
    "### Job Sector\n",
    "\n",
    "We can expect people to switch jobs with different frequency depending on their employment sctor (whether they are employed in the private sector or government), industry (whether they work in the automobile industry or the software industry) and their role (whether they work as a manager or as a specialist or a labourer).\n",
    "\n",
    "The survey records the industry, occupation(role) and class of worker (sector) for each employer of each respondent. I will not be including the industry and occupation as features in this analysis since these are categorical variables with large number of levels and need further work to reduce their dimensionality given the sample size. Also, the occupation and industry codes used in the survey changed over the years and need to be linked and corrected before adding them to the analysis. For now, i will only include the sector of the employer in this analysis.\n",
    "\n",
    "Each employer/job can belong to any one of the three sectors: private, government or self employment.\n",
    "\n",
    "Since people switch jobs between private, government and the self employment it is difficult to cetagorize them into working in just one sector. However, we can still categorize people based on which sector they spend majority of their working life. For each respondent, we calculate the fraction of observed employment years spent in the private sector and plot its distribution below."
   ]
  },
  {
   "cell_type": "code",
   "execution_count": null,
   "id": "767b4ad2-ae93-4ee6-acee-b284f55e9519",
   "metadata": {},
   "outputs": [],
   "source": [
    "# Histogram of fraction of employment years spent in the private sector\n",
    "plot04 = sns.displot(jobs_unique_df, x = \"Frac_Years_Pvt\")\n",
    "plot04.set(xlabel = 'Fraction of Years in Private Sector',\n",
    "           title = 'Histogram of Fraction of Employment Years Spent in the Private Sector')\n",
    "plt.xlim(0, None)\n",
    "plt.show()"
   ]
  },
  {
   "cell_type": "code",
   "execution_count": null,
   "id": "3412af1c-37e8-48c2-a8ea-c4fca73aaf6f",
   "metadata": {},
   "outputs": [],
   "source": [
    "# Number of respondents that spend majority (more than 50%) of their employment\n",
    "# years in the private sector.\n",
    "jobs_unique_df.loc[jobs_unique_df['Frac_Years_Pvt'] > 50]['Person_Id'].count()"
   ]
  },
  {
   "cell_type": "code",
   "execution_count": null,
   "id": "7f3dc585-05ce-4d1a-9156-73cf00ce0745",
   "metadata": {},
   "outputs": [],
   "source": [
    "# Correlation between Total_Jobs and Job_Types\n",
    "(jobs_unique_df[['Total_Jobs','Frac_Years_Pvt','Frac_Years_Self','Frac_Years_Gvt']]\n",
    "    .corr())"
   ]
  },
  {
   "cell_type": "markdown",
   "id": "5be9add6-0890-41da-9b96-3ad7622f011b",
   "metadata": {},
   "source": [
    "We can see that around 80% of the sample spends majority of their working life in the private sector. Also, people in the private sector are morelikely to switch jobs that people in the government or the self employed sector."
   ]
  },
  {
   "cell_type": "code",
   "execution_count": null,
   "id": "4eaccf6f-28d3-4b5d-9f8a-0e75d28b97b0",
   "metadata": {},
   "outputs": [],
   "source": [
    "# Histogram of the fraction of employment years spent in the private sector\n",
    "# by gender\n",
    "\n",
    "plot05 = sns.displot(jobs_unique_df, x = \"Frac_Years_Pvt\", hue = \"Gender\")\n",
    "plot05.set(xlabel = 'Fraction of Years in Private Sector',\n",
    "           title = 'Distribution of Fraction of Working Years Spent in the Private Sector by Gender')\n",
    "plt.xlim(0,None)\n",
    "plt.show()"
   ]
  },
  {
   "cell_type": "markdown",
   "id": "19cb71db-ce29-4264-b721-6c7d999dcb1a",
   "metadata": {},
   "source": [
    "The distribution of the fraction of working years spent in the private sector does not seem very different for the two genders indicating there does not seem to be selection into the private sector by gender.\n",
    "\n",
    "In the formal analysis of *Total_Jobs* and *Gender*, i will control for the fraction of years spent in the private sector. I will also limit the sample to only those people who spend more than 60% of their working life in the private sector since our hypothesis seems to make sense only for people working in this sector.\n",
    "\n"
   ]
  },
  {
   "cell_type": "markdown",
   "id": "266b09e0-7e87-4c5d-aa9e-008d735900e2",
   "metadata": {},
   "source": [
    "#### Education\n",
    "\n",
    "The survey records the highest degree completed by each respondent and this variable is an interger that indicates the number of years spent on one's education. I have factored this variables into four categories. *Less_School* stands for not completing high school or less. *Complete_School* indicates that the person completed high school but did not complete college. *College* indicates that the person has an undergraduate degree and *Graduate* indicates that a person also studies for a graduate degree."
   ]
  },
  {
   "cell_type": "code",
   "execution_count": null,
   "id": "0673aeb0-4cd5-4707-82ce-d4f23226a087",
   "metadata": {},
   "outputs": [],
   "source": [
    "# Convert 'Education_Ctg' to categorical variable and order the levels for plotting\n",
    "jobs_unique_df['Education_Ctg'] = (jobs_unique_df['Education_Ctg'].astype('category')\n",
    "                                      .cat\n",
    "                                      .reorder_categories(['Less_School',\n",
    "                                                           'Complete_School',\n",
    "                                                           'College',\n",
    "                                                           'Graduate']))\n"
   ]
  },
  {
   "cell_type": "code",
   "execution_count": null,
   "id": "e381aeef-8cdb-4e37-86dc-21c2bcf0de03",
   "metadata": {},
   "outputs": [],
   "source": [
    "# Sample size of education categories by gender\n",
    "pd.crosstab(jobs_unique_df['Education_Ctg'],jobs_unique_df['Gender'] )"
   ]
  },
  {
   "cell_type": "code",
   "execution_count": null,
   "id": "71c2c091-aa9f-47b4-9b83-893cc48e79b7",
   "metadata": {},
   "outputs": [],
   "source": [
    "# Boxplot of Total_Jobs by education categories and gender\n",
    "plot06 = sns.boxplot(data = jobs_unique_df, x = 'Education_Ctg', y = 'Total_Jobs',\n",
    "                     hue = 'Gender')\n",
    "plot06.set(xlabel = 'Education', ylabel = 'Total Jobs',\n",
    "           title = 'Distribution of Total Jobs by Education and Gender')\n",
    "plt.show()"
   ]
  },
  {
   "cell_type": "markdown",
   "id": "88a837b4-13ef-4013-9273-50eca8646e99",
   "metadata": {},
   "source": [
    "A large fraction of the sample that has ever been employed seems to have completed schooling. More women seem to have college or graduate degrees than men. Looking at the boxplot, i do see some difference in *Total_Jobs* by education that is not solely driven by gender differences. I will also include *Education_Ctg* variable in the formal analysis."
   ]
  },
  {
   "cell_type": "markdown",
   "id": "df947315-bbe2-4e73-828b-0bbe7b784cf7",
   "metadata": {},
   "source": [
    "#### Modeling `Total_Jobs` using Linear Regression\n",
    "\n",
    "I now try to see the relationship between gender and total number of jobs held during a person's working life after controlling for the number of years they are observed working in the data, their education and the fraction of time they spend in the private sector."
   ]
  },
  {
   "cell_type": "code",
   "execution_count": null,
   "id": "bf8c87cc-9518-45a9-aa21-ddcae06e3c48",
   "metadata": {},
   "outputs": [],
   "source": [
    "# Create dummy variables for education\n",
    "jobs_unique_df = (jobs_unique_df\n",
    "                     .merge(pd.get_dummies(jobs_unique_df[['Person_Id','Education_Ctg']]\n",
    "                                           .set_index('Person_Id')['Education_Ctg']),\n",
    "                            on = 'Person_Id', how = 'left'))"
   ]
  },
  {
   "cell_type": "code",
   "execution_count": null,
   "id": "115f5184-71d7-49c1-980d-25ff2bb39172",
   "metadata": {},
   "outputs": [],
   "source": [
    "# Regression model that only keeps respondents if they primarily work in the \n",
    "# Pvt sector i.e. (Frac_Years_Pvt >= 60)\n",
    "\n",
    "jobs_unique_df_pvt = jobs_unique_df.loc[(jobs_unique_df['Frac_Years_Pvt'] >= 60)]\n",
    "X03 = sm.add_constant(jobs_unique_df_pvt[['Years_Job_History', 'Female',\n",
    "                                          'Frac_Years_Pvt'   , 'College',\n",
    "                                          'Complete_School'  , 'Graduate']])\n",
    "model03 = sm.OLS(jobs_unique_df_pvt['Total_Jobs'], X03).fit(cov_type = 'HC3')\n",
    "print(model03.summary())\n"
   ]
  },
  {
   "cell_type": "markdown",
   "id": "79ded74c-72f3-44b5-8735-b5b85a7fc630",
   "metadata": {},
   "source": [
    "According to the regression results, all variables are statistically significant. Females on average seem to work 0.68 years less than males. Economically this number implies a difference of less than 10% of total jobs held by men on average. Based on this data and analysis, men and women seem to be equally likely to switch jobs over their lifetime."
   ]
  },
  {
   "cell_type": "markdown",
   "id": "bb2dda2f-184a-4234-b13d-e88c48ec25e2",
   "metadata": {},
   "source": [
    "### Analyzing Job Switching Behaviour Across Age\n",
    "\n",
    "I would like to check for patterns in the probability of switching a job across age and by gender. I wish to check if women switch jobs less than men during the reproductive years but catch up to men in later years, given we have found that on average they hold as many jobs as men over their working life."
   ]
  },
  {
   "cell_type": "code",
   "execution_count": null,
   "id": "52c74722-ec0d-4e2c-b646-360cd5174df5",
   "metadata": {},
   "outputs": [],
   "source": [
    "# Check for correlation between the two job switching variables\n",
    "jobs_switch_df[['Switch_Job_1', 'Switch_Job_2']].corr()"
   ]
  },
  {
   "cell_type": "markdown",
   "id": "81b86f76-9fa7-44a1-8c76-2b320102a592",
   "metadata": {},
   "source": [
    "I have defined two variables to measure if a respondent switches job during a year they are observed as employed. *Switch_Job_1* takes value 1 if the respondent starts a new job and ends any job in a calendar year. *Switch_Job_2* takes value 1 if a respondent starts a new job in a calendar year. Since these variables are intended to measure the same thing, i look at their correlation above. They seem to be highly positively correlated and so in the further analysis i will only use *Switch_Job_1*."
   ]
  },
  {
   "cell_type": "code",
   "execution_count": null,
   "id": "67544eff-e448-4c69-8eff-0bcd1950b2e4",
   "metadata": {},
   "outputs": [],
   "source": [
    "# Merge jobs_switch_df with features from jobs_unique_df - where\n",
    "# key is Person_Id\n",
    "\n",
    "jobs_switch_df = (jobs_switch_df\n",
    "                     .merge(jobs_unique_df[['Person_Id'        , 'Total_Jobs',\n",
    "                                            'Years_Job_History', 'Female',\n",
    "                                            'Gender'           , 'Frac_Years_Pvt',\n",
    "                                            'Less_School'      , 'Complete_School',\n",
    "                                            'College'          , 'Graduate']],\n",
    "                            on = 'Person_Id', how = 'left'))\n"
   ]
  },
  {
   "cell_type": "code",
   "execution_count": null,
   "id": "9e90fb15-682e-4818-8115-9a0b4c615f16",
   "metadata": {},
   "outputs": [],
   "source": [
    "# Keep only the respondents that have spent more than 60% of their emplyment\n",
    "# years in the private sector\n",
    "\n",
    "jobs_switch_df = jobs_switch_df.loc[jobs_switch_df['Frac_Years_Pvt'] >= 60]"
   ]
  },
  {
   "cell_type": "code",
   "execution_count": null,
   "id": "dfc5776c-e8f9-42b8-8ce6-1a452ff761e8",
   "metadata": {},
   "outputs": [],
   "source": [
    "# Create a dataframe from jobs_switch_df that records for each age and gender,\n",
    "# the number of respondents who are employed and the fraction of them that \n",
    "# switches a job\n",
    "\n",
    "age_switch_summary = (jobs_switch_df\n",
    "                         .groupby(['Age', 'Gender'])\n",
    "                         .agg(No_Resp = ('Person_Id', 'nunique'),\n",
    "                              No_Switch_1 = ('Switch_Job_1', 'sum'),\n",
    "                              No_Switch_2 = ('Switch_Job_2', 'sum'))\n",
    "                         .reset_index())\n",
    "\n",
    "age_switch_summary['Frac_Switch_1'] = round(age_switch_summary['No_Switch_1']\n",
    "                                            * 100 / age_switch_summary['No_Resp'])"
   ]
  },
  {
   "cell_type": "code",
   "execution_count": null,
   "id": "e8f423f1-df98-4557-b745-d2d32202bad1",
   "metadata": {},
   "outputs": [],
   "source": [
    "# Lineplot of number of respondents working at each age by gender\n",
    "\n",
    "plot07 = sns.lineplot(x = 'Age', y = 'No_Resp', hue = 'Gender',\n",
    "                      data = age_switch_summary)\n",
    "plot07.set(title = 'Number Of Respondents Observed Working At Each Age',\n",
    "           ylabel = 'Count')\n",
    "plt.xlim(20, 50)\n",
    "plt.show()"
   ]
  },
  {
   "cell_type": "markdown",
   "id": "67353177-c312-40fa-b664-6ed28cdea645",
   "metadata": {},
   "source": [
    "I plot the total number of respondents at each age to see if there are enough respondents working at each age and from both the genders. The sample seems large enough to be able to do this analysis by age and gender. The above graph again confirms that the number of working men in the sample is greater than women. Also, over the years there is a reduction in the number of both working men and women. Further analysis needs to be done to check if this patter is due to a reduction in the survey sample or due to people  deciding to leave work."
   ]
  },
  {
   "cell_type": "code",
   "execution_count": null,
   "id": "7e0be132-d0bf-4401-bae9-a1f9bda3a81a",
   "metadata": {},
   "outputs": [],
   "source": [
    "# Lineplot of the fraction of repondents that switch job at each age\n",
    "\n",
    "plot08 = sns.lineplot(x = 'Age', y = 'Frac_Switch_1', hue = 'Gender',\n",
    "                      data = age_switch_summary)\n",
    "plot08.set(title = 'Percentage of Working Respondents That Switch Jobs At Each Age',\n",
    "           ylabel ='Percentage %')\n",
    "plt.xlim(20, 50)\n",
    "plt.ylim(0, 100)\n",
    "plt.show()\n"
   ]
  },
  {
   "cell_type": "markdown",
   "id": "b8753a73-6639-46b9-8b54-9f5789b9535b",
   "metadata": {},
   "source": [
    "This is an interesting graph and it shows that people switch jobs a lot more frequently in their 20s and 30s than later in their life. In fact the probability of switching jobs declines monotonically with age and for both genders. The high frequency of switching jobs in the early 20s could be explained by multiple part time and temporary jobs students do while in college. However, even during 30s this frequency remains at 20% implying that 1 in 5 people in their 30s and working tend to switch their job in a given year.\n",
    "\n",
    "The probability of changing jobs does not seem to differ much between the two genders. Women do seem less likely to switch jobs from the age 25 till 35, but this difference looks small. We will confirm the patterns observed in this graph formally using a logistic regression with *Switch_Job_1* as the dependent variable."
   ]
  },
  {
   "cell_type": "code",
   "execution_count": null,
   "id": "05dedfb7-bd91-41ab-8686-f71a75388624",
   "metadata": {},
   "outputs": [],
   "source": [
    "# Run a logistic regression of Switch_Job_1 on age, gender, their interaction\n",
    "# and education\n",
    "\n",
    "X04 = sm.add_constant(jobs_switch_df[['Female'         , 'Age'    , 'Switch_Job_1',\n",
    "                                      'Complete_School', 'College', 'Graduate']])\n",
    "model04 = smf.logit(formula = 'Switch_Job_1 ~ Age + Female + Age:Female \\\n",
    "                                              + Complete_School + College \\\n",
    "                                              + Graduate',\n",
    "                    data = X04).fit()\n",
    "model04.summary()"
   ]
  },
  {
   "cell_type": "code",
   "execution_count": null,
   "id": "02c6dda4-b380-4b45-bc63-8140ff564263",
   "metadata": {},
   "outputs": [],
   "source": [
    "# Predict the probability of switching job for men and women who have\n",
    "# completed school at age 30 and 45\n",
    "\n",
    "jobs_switch_df_pred = pd.DataFrame(data = {'Female' : [0, 1, 0, 1],\n",
    "                                           'Age' : [30, 30, 50, 50],\n",
    "                                           'Complete_School' : [1, 1, 1, 1],\n",
    "                                           'College' : [0, 0, 0, 0],\n",
    "                                           'Graduate' : [0, 0, 0, 0]})\n",
    "\n",
    "jobs_switch_df_pred['Prediction'] = round(model04.predict(jobs_switch_df_pred), 2)\n",
    "print(jobs_switch_df_pred)"
   ]
  },
  {
   "cell_type": "markdown",
   "id": "26261d81-e5ce-4027-865c-a8c4676c0f91",
   "metadata": {},
   "source": [
    "The results from the logit model show that age, gender as well as education are all statistically significant at (1% level of significance), implying that all these factors are correlated to the frequency of switching jobs. The negative coefficients associated with *Age* indicates that people change jobs less with age. Similarly, women (indicated by a negative coefficient on *Female*) are less likely to switch jobs relative to men. As was hypothesized, the difference in job switching behaviour between men and women diminishes with age as the coefficient on *Age*x*Gender* is positive. According to the model, the probability that a man who has completed schooling and is 30 years old will switch a job is 26% and this probability for a women at the same education and schooling level is 25%. For both a man and a women who are 50 years old and who have completed high school the probability to switch a job is 7%. The model predictions imply that the small difference in job switching frequency between men and women in this data is mainly coming from differences in younger years. Greater years of education also lowers the likelihood of switching jobs which seems due to more stability associated with white collar jobs that more educated respondents are likely to be employed in.\n",
    "\n",
    "Even though the factors included are correlated to frequency of switching jobs, they explain little variation in the dependent variable as the pseudo R-squared is 10%. This is understandable as i have not included in the model information about the industry and employment position or about geography, all features that are likely to be important.\n"
   ]
  },
  {
   "cell_type": "markdown",
   "id": "4cdb0374-344b-4b5f-8fd6-c9c57cdab03b",
   "metadata": {
    "tags": []
   },
   "source": [
    "## Scope For Future Work\n",
    "\n",
    "In future analysis, i can try to include important employment factors such as industry and position of employment as well as geography of the respondent to be able to conclude something more clearly about the causal effect of gender on job switching behaviour. Another extension of this work can be to look at how incomes change with a job switch and factors that affect the direction of the income change."
   ]
  },
  {
   "cell_type": "markdown",
   "id": "cdabc486-5ddb-4498-b31f-a95350fc14f6",
   "metadata": {},
   "source": [
    "## Acknowledgements\n",
    "\n",
    "This analysis was initiated as a part of a group project requirement during the Correlation One Data Science For All Fellowship (July-Aug 2022). The idea for this analysis as well as the project code is my individual work and i am responsible for all the errors. I would like to thank my team members Danni Chen, Wenjing Dong, Yuan Du and Yifan Ma for feedback. \n"
   ]
  }
 ],
 "metadata": {
  "authors": [
   {
    "name": "Anisha Grover"
   }
  ],
  "kernelspec": {
   "display_name": "Python 3 (ipykernel)",
   "language": "python",
   "name": "python3"
  },
  "language_info": {
   "codemirror_mode": {
    "name": "ipython",
    "version": 3
   },
   "file_extension": ".py",
   "mimetype": "text/x-python",
   "name": "python",
   "nbconvert_exporter": "python",
   "pygments_lexer": "ipython3",
   "version": "3.9.12"
  },
  "title": "Analyzing the Relationship between Job Turnover and Gender using NLS79 Data"
 },
 "nbformat": 4,
 "nbformat_minor": 5
}
